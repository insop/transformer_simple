{
 "cells": [
  {
   "cell_type": "code",
   "execution_count": 203,
   "metadata": {},
   "outputs": [],
   "source": [
    "import os\n",
    "import pynq\n",
    "import numpy as np\n",
    "# os.environ['EMCONFIG_PATH'] = os.environ['PWD']\n",
    "ol=pynq.Overlay(\"krnl_matmulbertl.xclbin\")\n"
   ]
  },
  {
   "cell_type": "code",
   "execution_count": 204,
   "metadata": {
    "scrolled": true
   },
   "outputs": [],
   "source": [
    "from pynq import allocate\n",
    "Nbanks=8\n",
    "Nmat=3\n",
    "Tsize=1024\n",
    "Nvec=14\n",
    "# input_buffer = allocate(shape=(Nvec,Tsize), dtype=np.int16, target=ol.HBM14)"
   ]
  },
  {
   "cell_type": "code",
   "execution_count": 205,
   "metadata": {},
   "outputs": [
    {
     "data": {
      "text/plain": [
       "(-15, 0)"
      ]
     },
     "execution_count": 205,
     "metadata": {},
     "output_type": "execute_result"
    }
   ],
   "source": [
    "low = -15 # -2^15\n",
    "high =  0# 2^15-1\n",
    "low, high"
   ]
  },
  {
   "cell_type": "code",
   "execution_count": 206,
   "metadata": {},
   "outputs": [
    {
     "data": {
      "text/plain": [
       "(3072, 14)"
      ]
     },
     "execution_count": 206,
     "metadata": {},
     "output_type": "execute_result"
    }
   ],
   "source": [
    "source_v_np = np.random.randint(low, high, dtype=np.int16, size=((Nmat * Tsize), Nvec))\n",
    "source_v_np.shape"
   ]
  },
  {
   "cell_type": "code",
   "execution_count": 207,
   "metadata": {},
   "outputs": [
    {
     "data": {
      "text/plain": [
       "(3072, 1024)"
      ]
     },
     "execution_count": 207,
     "metadata": {},
     "output_type": "execute_result"
    }
   ],
   "source": [
    "source_w_np = np.random.randint(low, high, dtype=np.int16, size=((Nmat * Tsize),Tsize))\n",
    "source_w_np.shape"
   ]
  },
  {
   "cell_type": "code",
   "execution_count": 208,
   "metadata": {},
   "outputs": [],
   "source": [
    "source_w_split_np = []\n",
    "\n",
    "for i in range(Nbanks):\n",
    "    source_w_split_np.append(np.zeros((Nmat*Tsize//Nbanks,Tsize)))"
   ]
  },
  {
   "cell_type": "code",
   "execution_count": 209,
   "metadata": {},
   "outputs": [
    {
     "data": {
      "text/plain": [
       "(384, 1024)"
      ]
     },
     "execution_count": 209,
     "metadata": {},
     "output_type": "execute_result"
    }
   ],
   "source": [
    "source_w_split_np[0].shape"
   ]
  },
  {
   "cell_type": "code",
   "execution_count": 210,
   "metadata": {},
   "outputs": [],
   "source": [
    "# save the split matrices of the reference values for the loading\n",
    "source_w_split_np = np.vsplit(source_w_np, Nbanks)"
   ]
  },
  {
   "cell_type": "code",
   "execution_count": 211,
   "metadata": {},
   "outputs": [
    {
     "data": {
      "text/plain": [
       "(14, 1024)"
      ]
     },
     "execution_count": 211,
     "metadata": {},
     "output_type": "execute_result"
    }
   ],
   "source": [
    "outbuf_np = np.zeros((Nvec, Tsize), dtype=np.int32)\n",
    "outbuf_np.shape"
   ]
  },
  {
   "cell_type": "code",
   "execution_count": 212,
   "metadata": {},
   "outputs": [
    {
     "data": {
      "text/plain": [
       "(array([[193746, 193610, 193568, ..., 195427, 195659, 194796],\n",
       "        [198316, 197727, 196957, ..., 200305, 199343, 197307],\n",
       "        [196071, 197137, 195371, ..., 199620, 200144, 198192],\n",
       "        ...,\n",
       "        [189922, 189672, 192438, ..., 193936, 191781, 191424],\n",
       "        [195122, 193627, 192269, ..., 194655, 195292, 194673],\n",
       "        [196019, 195608, 193371, ..., 198360, 196971, 195304]], dtype=int32),\n",
       " (14, 1024))"
      ]
     },
     "execution_count": 212,
     "metadata": {},
     "output_type": "execute_result"
    }
   ],
   "source": [
    "outbuf_np = np.matmul(source_v_np.T, source_w_np, dtype=np.int32)\n",
    "outbuf_np, outbuf_np.shape"
   ]
  },
  {
   "cell_type": "code",
   "execution_count": 213,
   "metadata": {},
   "outputs": [],
   "source": [
    "Nbanks=8\n",
    "Nmat=3\n",
    "Tsize=1024\n",
    "source_w = [\n",
    "  pynq.allocate(shape=(Nmat*Tsize//Nbanks,Tsize), dtype=np.int16, target=ol.HBM0),\n",
    "  pynq.allocate((Nmat*Tsize//Nbanks,Tsize), dtype=np.int16, target=ol.HBM4),\n",
    "  pynq.allocate((Nmat*Tsize//Nbanks,Tsize), dtype=np.int16, target=ol.HBM8),\n",
    "  pynq.allocate((Nmat*Tsize//Nbanks,Tsize), dtype=np.int16, target=ol.HBM12),\n",
    "  pynq.allocate((Nmat*Tsize//Nbanks,Tsize), dtype=np.int16, target=ol.HBM16),\n",
    "  pynq.allocate((Nmat*Tsize//Nbanks,Tsize), dtype=np.int16, target=ol.HBM20),\n",
    "  pynq.allocate((Nmat*Tsize//Nbanks,Tsize), dtype=np.int16, target=ol.HBM24),\n",
    "  pynq.allocate((Nmat*Tsize//Nbanks,Tsize), dtype=np.int16, target=ol.HBM26)]\n",
    " "
   ]
  },
  {
   "cell_type": "code",
   "execution_count": 214,
   "metadata": {},
   "outputs": [
    {
     "data": {
      "text/plain": [
       "((384, 1024), (384, 1024))"
      ]
     },
     "execution_count": 214,
     "metadata": {},
     "output_type": "execute_result"
    }
   ],
   "source": [
    "source_w[0].shape, source_w_split_np[0].shape"
   ]
  },
  {
   "cell_type": "code",
   "execution_count": 215,
   "metadata": {},
   "outputs": [],
   "source": [
    "for i in range(len(source_w)):\n",
    "#     source_w[i][:] = np.random.randint(-2^15, high=2^15-1, dtype=np.int16, size=(Nmat*Tsize//Nbanks,Tsize))\n",
    "    source_w[i][:] = source_w_split_np[i]"
   ]
  },
  {
   "cell_type": "code",
   "execution_count": 216,
   "metadata": {},
   "outputs": [
    {
     "data": {
      "text/plain": [
       "(384, 1024)"
      ]
     },
     "execution_count": 216,
     "metadata": {},
     "output_type": "execute_result"
    }
   ],
   "source": [
    "source_w[0].shape\n"
   ]
  },
  {
   "cell_type": "code",
   "execution_count": 217,
   "metadata": {},
   "outputs": [],
   "source": [
    "for i in range(8):\n",
    "    source_w[i].sync_to_device()"
   ]
  },
  {
   "cell_type": "code",
   "execution_count": 218,
   "metadata": {},
   "outputs": [
    {
     "name": "stdout",
     "output_type": "stream",
     "text": [
      "source_v shape (3072, 14)\n",
      "<class 'pynq.buffer.PynqBuffer'>\n",
      "outbuf shape (14, 1024)\n"
     ]
    }
   ],
   "source": [
    "source_v = pynq.allocate(((Nmat * Tsize), Nvec), dtype=np.int16, target=ol.HBM14)\n",
    "print(\"source_v shape\", source_v.shape)\n",
    "# source_v[:] = np.random.randint(-2^15, high=2^15-1, dtype=np.int16, size=(Tsize,Nvec))\n",
    "source_v[:] = source_v_np\n",
    "print(type(source_v))\n",
    "source_v.sync_to_device()\n",
    "outbuf = pynq.allocate((Nvec,Tsize), dtype=np.int32, target=ol.HBM14)\n",
    "print(\"outbuf shape\", outbuf.shape)"
   ]
  },
  {
   "cell_type": "code",
   "execution_count": 219,
   "metadata": {},
   "outputs": [],
   "source": [
    "ol.feeder_1.call(\n",
    "\tsource_v,\n",
    "\tsource_w[0],\n",
    "\tsource_w[1],\n",
    "\tsource_w[2],\n",
    "\tsource_w[3],\n",
    "\tsource_w[4],\n",
    "\tsource_w[5],\n",
    "\tsource_w[6],\n",
    "\tsource_w[7],\n",
    "    outbuf, 0)\n",
    "\n",
    "outbuf.sync_from_device()"
   ]
  },
  {
   "cell_type": "code",
   "execution_count": 220,
   "metadata": {},
   "outputs": [],
   "source": [
    "# for i in outbuf[3]:\n",
    "#     if i != 0: print(i)"
   ]
  },
  {
   "cell_type": "code",
   "execution_count": 221,
   "metadata": {},
   "outputs": [
    {
     "data": {
      "text/plain": [
       "(14, 1024)"
      ]
     },
     "execution_count": 221,
     "metadata": {},
     "output_type": "execute_result"
    }
   ],
   "source": [
    "outbuf.shape"
   ]
  },
  {
   "cell_type": "code",
   "execution_count": 222,
   "metadata": {},
   "outputs": [
    {
     "data": {
      "text/plain": [
       "(14, 1024)"
      ]
     },
     "execution_count": 222,
     "metadata": {},
     "output_type": "execute_result"
    }
   ],
   "source": [
    "outbuf_np.shape"
   ]
  },
  {
   "cell_type": "code",
   "execution_count": 223,
   "metadata": {},
   "outputs": [
    {
     "data": {
      "text/plain": [
       "PynqBuffer([[ -5,  -7,  -2, ...,  -4,  -8, -12],\n",
       "            [-10,  -6,  -7, ..., -14,  -1,  -9],\n",
       "            [ -1,  -8,  -5, ...,  -5, -13,  -1],\n",
       "            ...,\n",
       "            [-10, -14, -11, ...,  -2,  -5, -14],\n",
       "            [-14, -14,  -4, ...,  -4, -15,  -6],\n",
       "            [ -8,  -5, -15, ..., -12,  -4, -12]], dtype=int16)"
      ]
     },
     "execution_count": 223,
     "metadata": {},
     "output_type": "execute_result"
    }
   ],
   "source": [
    "source_v"
   ]
  },
  {
   "cell_type": "code",
   "execution_count": 224,
   "metadata": {},
   "outputs": [
    {
     "data": {
      "text/plain": [
       "PynqBuffer([[-10, -11,  -5, ..., -11,  -7, -11],\n",
       "            [ -3, -15,  -2, ..., -12, -13,  -1],\n",
       "            [ -6,  -7, -15, ...,  -2,  -5, -11],\n",
       "            ...,\n",
       "            [-15,  -6,  -4, ...,  -3,  -9,  -4],\n",
       "            [ -6,  -7, -11, ..., -11, -15,  -4],\n",
       "            [ -3,  -6,  -3, ...,  -3, -12,  -6]], dtype=int16)"
      ]
     },
     "execution_count": 224,
     "metadata": {},
     "output_type": "execute_result"
    }
   ],
   "source": [
    "source_w[0]"
   ]
  },
  {
   "cell_type": "code",
   "execution_count": 225,
   "metadata": {},
   "outputs": [
    {
     "data": {
      "text/plain": [
       "PynqBuffer([[0, 0, 0, ..., 0, 0, 0],\n",
       "            [0, 0, 0, ..., 0, 0, 0],\n",
       "            [0, 0, 0, ..., 0, 0, 0],\n",
       "            ...,\n",
       "            [0, 0, 0, ..., 0, 0, 0],\n",
       "            [0, 0, 0, ..., 0, 0, 0],\n",
       "            [0, 0, 0, ..., 0, 0, 0]], dtype=int32)"
      ]
     },
     "execution_count": 225,
     "metadata": {},
     "output_type": "execute_result"
    }
   ],
   "source": [
    "outbuf"
   ]
  },
  {
   "cell_type": "code",
   "execution_count": 226,
   "metadata": {},
   "outputs": [
    {
     "data": {
      "text/plain": [
       "array([[193746, 193610, 193568, ..., 195427, 195659, 194796],\n",
       "       [198316, 197727, 196957, ..., 200305, 199343, 197307],\n",
       "       [196071, 197137, 195371, ..., 199620, 200144, 198192],\n",
       "       ...,\n",
       "       [189922, 189672, 192438, ..., 193936, 191781, 191424],\n",
       "       [195122, 193627, 192269, ..., 194655, 195292, 194673],\n",
       "       [196019, 195608, 193371, ..., 198360, 196971, 195304]], dtype=int32)"
      ]
     },
     "execution_count": 226,
     "metadata": {},
     "output_type": "execute_result"
    }
   ],
   "source": [
    "outbuf_np"
   ]
  },
  {
   "cell_type": "code",
   "execution_count": 227,
   "metadata": {},
   "outputs": [
    {
     "data": {
      "text/plain": [
       "(array([ 0,  0,  0, ..., 13, 13, 13]),\n",
       " array([   0,    1,    2, ..., 1021, 1022, 1023]))"
      ]
     },
     "execution_count": 227,
     "metadata": {},
     "output_type": "execute_result"
    }
   ],
   "source": [
    "np.where(outbuf == 0 )"
   ]
  },
  {
   "cell_type": "code",
   "execution_count": null,
   "metadata": {},
   "outputs": [],
   "source": []
  },
  {
   "cell_type": "code",
   "execution_count": null,
   "metadata": {},
   "outputs": [],
   "source": []
  },
  {
   "cell_type": "code",
   "execution_count": null,
   "metadata": {},
   "outputs": [],
   "source": []
  },
  {
   "cell_type": "code",
   "execution_count": null,
   "metadata": {},
   "outputs": [],
   "source": []
  },
  {
   "cell_type": "code",
   "execution_count": null,
   "metadata": {},
   "outputs": [],
   "source": []
  }
 ],
 "metadata": {
  "kernelspec": {
   "display_name": "Python 3",
   "language": "python",
   "name": "python3"
  },
  "language_info": {
   "codemirror_mode": {
    "name": "ipython",
    "version": 3
   },
   "file_extension": ".py",
   "mimetype": "text/x-python",
   "name": "python",
   "nbconvert_exporter": "python",
   "pygments_lexer": "ipython3",
   "version": "3.8.3"
  }
 },
 "nbformat": 4,
 "nbformat_minor": 4
}
