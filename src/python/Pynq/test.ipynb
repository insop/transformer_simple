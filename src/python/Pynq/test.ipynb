{
 "cells": [
  {
   "cell_type": "code",
   "execution_count": 1,
   "metadata": {},
   "outputs": [
    {
     "name": "stderr",
     "output_type": "stream",
     "text": [
      "/data/anaconda3/lib/python3.8/site-packages/setuptools/distutils_patch.py:25: UserWarning: Distutils was imported before Setuptools. This usage is discouraged and may exhibit undesirable behaviors or errors. Please use Setuptools' objects directly or at least import Setuptools first.\n",
      "  warnings.warn(\n"
     ]
    },
    {
     "data": {
      "application/javascript": [
       "\n",
       "try {\n",
       "require(['notebook/js/codecell'], function(codecell) {\n",
       "  codecell.CodeCell.options_default.highlight_modes[\n",
       "      'magic_text/x-csrc'] = {'reg':[/^%%microblaze/]};\n",
       "  Jupyter.notebook.events.one('kernel_ready.Kernel', function(){\n",
       "      Jupyter.notebook.get_cells().map(function(cell){\n",
       "          if (cell.cell_type == 'code'){ cell.auto_highlight(); } }) ;\n",
       "  });\n",
       "});\n",
       "} catch (e) {};\n"
      ]
     },
     "metadata": {},
     "output_type": "display_data"
    },
    {
     "data": {
      "application/javascript": [
       "\n",
       "try {\n",
       "require(['notebook/js/codecell'], function(codecell) {\n",
       "  codecell.CodeCell.options_default.highlight_modes[\n",
       "      'magic_text/x-csrc'] = {'reg':[/^%%pybind11/]};\n",
       "  Jupyter.notebook.events.one('kernel_ready.Kernel', function(){\n",
       "      Jupyter.notebook.get_cells().map(function(cell){\n",
       "          if (cell.cell_type == 'code'){ cell.auto_highlight(); } }) ;\n",
       "  });\n",
       "});\n",
       "} catch (e) {};\n"
      ]
     },
     "metadata": {},
     "output_type": "display_data"
    }
   ],
   "source": [
    "import os\n",
    "import pynq\n",
    "import numpy as np\n",
    "# os.environ['EMCONFIG_PATH'] = os.environ['PWD']\n",
    "ol=pynq.Overlay(\"krnl_matmulbertl.xclbin\")\n"
   ]
  },
  {
   "cell_type": "code",
   "execution_count": 590,
   "metadata": {
    "scrolled": true
   },
   "outputs": [],
   "source": [
    "from pynq import allocate\n",
    "Nbanks=8\n",
    "Nmat=3\n",
    "Tsize=1024\n",
    "Nvec=14"
   ]
  },
  {
   "cell_type": "code",
   "execution_count": 591,
   "metadata": {},
   "outputs": [
    {
     "data": {
      "text/plain": [
       "(1024, 14)"
      ]
     },
     "execution_count": 591,
     "metadata": {},
     "output_type": "execute_result"
    }
   ],
   "source": [
    "low = 1 # -2^15\n",
    "high =  200# 2^15-1\n",
    "source_v_np = np.random.randint(low, high, dtype=np.int16, size=(Tsize,Nvec))\n",
    "source_v_np.shape"
   ]
  },
  {
   "cell_type": "code",
   "execution_count": 592,
   "metadata": {},
   "outputs": [
    {
     "data": {
      "text/plain": [
       "(3072, 1024)"
      ]
     },
     "execution_count": 592,
     "metadata": {},
     "output_type": "execute_result"
    }
   ],
   "source": [
    "low = -1000\n",
    "high = 1000\n",
    "source_w_np = np.random.randint(low, high, dtype=np.int16, size=(Nmat*Tsize,Tsize))\n",
    "source_w_np[100,13] = 2\n",
    "source_w_np.shape\n"
   ]
  },
  {
   "cell_type": "code",
   "execution_count": 593,
   "metadata": {},
   "outputs": [],
   "source": [
    "source_w_split_np = []\n",
    "for i in range(Nbanks):\n",
    "    source_w_split_np.append(np.zeros((Nmat*Tsize,Tsize//Nbanks)))"
   ]
  },
  {
   "cell_type": "code",
   "execution_count": 594,
   "metadata": {},
   "outputs": [
    {
     "data": {
      "text/plain": [
       "(3072, 128)"
      ]
     },
     "execution_count": 594,
     "metadata": {},
     "output_type": "execute_result"
    }
   ],
   "source": [
    "source_w_split_np[0].shape"
   ]
  },
  {
   "cell_type": "code",
   "execution_count": 595,
   "metadata": {},
   "outputs": [
    {
     "data": {
      "text/plain": [
       "(3072, 128)"
      ]
     },
     "execution_count": 595,
     "metadata": {},
     "output_type": "execute_result"
    }
   ],
   "source": [
    "# save the split matrices of the reference values for the loading\n",
    "source_w_split_np = np.hsplit(source_w_np, Nbanks)\n",
    "source_w_split_np[0].shape"
   ]
  },
  {
   "cell_type": "code",
   "execution_count": 596,
   "metadata": {},
   "outputs": [
    {
     "data": {
      "text/plain": [
       "(14, 1024)"
      ]
     },
     "execution_count": 596,
     "metadata": {},
     "output_type": "execute_result"
    }
   ],
   "source": [
    "outbuf_np = np.zeros((Nvec, Tsize), dtype=np.int32)\n",
    "outbuf_np.shape"
   ]
  },
  {
   "cell_type": "code",
   "execution_count": 597,
   "metadata": {},
   "outputs": [
    {
     "data": {
      "text/plain": [
       "(array([[  975209,  1956978,  -947947, ...,   268320,  -215044, -1190427],\n",
       "        [ 1056084,   170725,    55925, ...,   919461,  -474195,   618715],\n",
       "        [ 5726443,  4397617,  3614665, ...,  2452041,  4673051,  5300048],\n",
       "        ...,\n",
       "        [ -672202,    19015,  1456368, ...,  2017827,  -978472,  2537446],\n",
       "        [  263658,  1065093,  2462972, ...,  -301257,    47755,  4091734],\n",
       "        [-1843463, -3288543, -2834452, ..., -2284886, -2607814, -2938570]],\n",
       "       dtype=int32),\n",
       " (3072, 14))"
      ]
     },
     "execution_count": 597,
     "metadata": {},
     "output_type": "execute_result"
    }
   ],
   "source": [
    "outbuf_np = np.matmul(source_w_np, source_v_np, dtype=np.int32)\n",
    "outbuf_np, outbuf_np.shape"
   ]
  },
  {
   "cell_type": "code",
   "execution_count": 598,
   "metadata": {},
   "outputs": [],
   "source": [
    "source_w = [\n",
    "  pynq.allocate(shape=(Nmat*Tsize,Tsize//Nbanks), dtype=np.int16, target=ol.HBM0),\n",
    "  pynq.allocate(shape=(Nmat*Tsize,Tsize//Nbanks), dtype=np.int16, target=ol.HBM4),\n",
    "  pynq.allocate(shape=(Nmat*Tsize,Tsize//Nbanks), dtype=np.int16, target=ol.HBM8),\n",
    "  pynq.allocate(shape=(Nmat*Tsize,Tsize//Nbanks), dtype=np.int16, target=ol.HBM12),\n",
    "  pynq.allocate(shape=(Nmat*Tsize,Tsize//Nbanks), dtype=np.int16, target=ol.HBM16),\n",
    "  pynq.allocate(shape=(Nmat*Tsize,Tsize//Nbanks), dtype=np.int16, target=ol.HBM20),\n",
    "  pynq.allocate(shape=(Nmat*Tsize,Tsize//Nbanks), dtype=np.int16, target=ol.HBM24),\n",
    "  pynq.allocate(shape=(Nmat*Tsize,Tsize//Nbanks), dtype=np.int16, target=ol.HBM26)]\n",
    " "
   ]
  },
  {
   "cell_type": "code",
   "execution_count": 599,
   "metadata": {},
   "outputs": [
    {
     "data": {
      "text/plain": [
       "((3072, 128), (3072, 128))"
      ]
     },
     "execution_count": 599,
     "metadata": {},
     "output_type": "execute_result"
    }
   ],
   "source": [
    "source_w[0].shape, source_w_split_np[0].shape"
   ]
  },
  {
   "cell_type": "code",
   "execution_count": 600,
   "metadata": {},
   "outputs": [],
   "source": [
    "for i in range(len(source_w)):\n",
    "#     source_w[i][:] = np.random.randint(-2^15, high=2^15-1, dtype=np.int16, size=(Nmat*Tsize//Nbanks,Tsize))\n",
    "    source_w[i][:] = source_w_split_np[i]"
   ]
  },
  {
   "cell_type": "code",
   "execution_count": 601,
   "metadata": {},
   "outputs": [
    {
     "data": {
      "text/plain": [
       "(3072, 128)"
      ]
     },
     "execution_count": 601,
     "metadata": {},
     "output_type": "execute_result"
    }
   ],
   "source": [
    "source_w[0].shape\n"
   ]
  },
  {
   "cell_type": "code",
   "execution_count": 602,
   "metadata": {},
   "outputs": [],
   "source": [
    "for i in range(8):\n",
    "    source_w[i].sync_to_device()"
   ]
  },
  {
   "cell_type": "code",
   "execution_count": 603,
   "metadata": {},
   "outputs": [
    {
     "name": "stdout",
     "output_type": "stream",
     "text": [
      "source_v shape (14, 1024)\n",
      "<class 'pynq.buffer.PynqBuffer'>\n",
      "outbuf shape (3072, 14)\n"
     ]
    }
   ],
   "source": [
    "source_v = pynq.allocate(shape=(Nvec,Tsize), dtype=np.int16, target=ol.HBM14)\n",
    "print(\"source_v shape\", source_v.shape)\n",
    "# source_v[:] = np.random.randint(-2^15, high=2^15-1, dtype=np.int16, size=(Tsize,Nvec))\n",
    "source_v[:] = source_v_np.T\n",
    "print(type(source_v))\n",
    "source_v.sync_to_device()\n",
    "outbuf = pynq.allocate((Tsize*Nmat,Nvec), dtype=np.int32, target=ol.HBM14)\n",
    "print(\"outbuf shape\", outbuf.shape)"
   ]
  },
  {
   "cell_type": "code",
   "execution_count": 604,
   "metadata": {},
   "outputs": [],
   "source": [
    "ol.feeder_1.call(\n",
    "\tsource_v,\n",
    "\tsource_w[0],\n",
    "\tsource_w[1],\n",
    "\tsource_w[2],\n",
    "\tsource_w[3],\n",
    "\tsource_w[4],\n",
    "\tsource_w[5],\n",
    "\tsource_w[6],\n",
    "\tsource_w[7],\n",
    "    outbuf, 0)\n",
    "\n",
    "outbuf.sync_from_device()"
   ]
  },
  {
   "cell_type": "code",
   "execution_count": 605,
   "metadata": {},
   "outputs": [
    {
     "data": {
      "text/plain": [
       "(3072, 14)"
      ]
     },
     "execution_count": 605,
     "metadata": {},
     "output_type": "execute_result"
    }
   ],
   "source": [
    "outbuf.shape"
   ]
  },
  {
   "cell_type": "code",
   "execution_count": 606,
   "metadata": {},
   "outputs": [
    {
     "data": {
      "text/plain": [
       "(3072, 14)"
      ]
     },
     "execution_count": 606,
     "metadata": {},
     "output_type": "execute_result"
    }
   ],
   "source": [
    "outbuf_np.shape"
   ]
  },
  {
   "cell_type": "code",
   "execution_count": 607,
   "metadata": {},
   "outputs": [
    {
     "data": {
      "text/plain": [
       "PynqBuffer([[125, 153, 155, ..., 152, 110,  27],\n",
       "            [ 72, 116, 143, ..., 129, 109,   7],\n",
       "            [197, 182, 162, ...,   9, 170, 174],\n",
       "            ...,\n",
       "            [ 67,  27,  15, ...,  14,  69, 120],\n",
       "            [ 84,  11, 100, ..., 106, 166,  15],\n",
       "            [ 11, 103, 171, ...,  43,  47,   4]], dtype=int16)"
      ]
     },
     "execution_count": 607,
     "metadata": {},
     "output_type": "execute_result"
    }
   ],
   "source": [
    "source_v"
   ]
  },
  {
   "cell_type": "code",
   "execution_count": 608,
   "metadata": {},
   "outputs": [
    {
     "data": {
      "text/plain": [
       "PynqBuffer([[-549, -792, -813, ..., -353, -608,  610],\n",
       "            [-758, -791, -698, ...,  241, -126,  -36],\n",
       "            [-486, -451, -845, ..., -792, -672,   61],\n",
       "            ...,\n",
       "            [-135, -301, -234, ...,  115,  987, -240],\n",
       "            [-274,  780,  499, ..., -372,  864, -939],\n",
       "            [-325,  165, -909, ...,  850, -251, -804]], dtype=int16)"
      ]
     },
     "execution_count": 608,
     "metadata": {},
     "output_type": "execute_result"
    }
   ],
   "source": [
    "source_w[0]"
   ]
  },
  {
   "cell_type": "code",
   "execution_count": 609,
   "metadata": {},
   "outputs": [
    {
     "data": {
      "text/plain": [
       "PynqBuffer([[  975209,  1956978,  -947947, ...,   268320,  -215044,\n",
       "             -1190427],\n",
       "            [ 1056084,   170725,    55925, ...,   919461,  -474195,\n",
       "               618715],\n",
       "            [ 5726443,  4397617,  3614665, ...,  2452041,  4673051,\n",
       "              5300048],\n",
       "            ...,\n",
       "            [ -672202,    19015,  1456368, ...,  2017827,  -978472,\n",
       "              2537446],\n",
       "            [  263658,  1065093,  2462972, ...,  -301257,    47755,\n",
       "              4091734],\n",
       "            [-1843463, -3288543, -2834452, ..., -2284886, -2607814,\n",
       "             -2938570]], dtype=int32)"
      ]
     },
     "execution_count": 609,
     "metadata": {},
     "output_type": "execute_result"
    }
   ],
   "source": [
    "outbuf"
   ]
  },
  {
   "cell_type": "code",
   "execution_count": 610,
   "metadata": {},
   "outputs": [
    {
     "data": {
      "text/plain": [
       "array([[  975209,  1956978,  -947947, ...,   268320,  -215044, -1190427],\n",
       "       [ 1056084,   170725,    55925, ...,   919461,  -474195,   618715],\n",
       "       [ 5726443,  4397617,  3614665, ...,  2452041,  4673051,  5300048],\n",
       "       ...,\n",
       "       [ -672202,    19015,  1456368, ...,  2017827,  -978472,  2537446],\n",
       "       [  263658,  1065093,  2462972, ...,  -301257,    47755,  4091734],\n",
       "       [-1843463, -3288543, -2834452, ..., -2284886, -2607814, -2938570]],\n",
       "      dtype=int32)"
      ]
     },
     "execution_count": 610,
     "metadata": {},
     "output_type": "execute_result"
    }
   ],
   "source": [
    "outbuf_np"
   ]
  },
  {
   "cell_type": "code",
   "execution_count": 611,
   "metadata": {},
   "outputs": [
    {
     "data": {
      "text/plain": [
       "PynqBuffer(True)"
      ]
     },
     "execution_count": 611,
     "metadata": {},
     "output_type": "execute_result"
    }
   ],
   "source": [
    "outbuf.any() == outbuf_np.any()"
   ]
  },
  {
   "cell_type": "code",
   "execution_count": null,
   "metadata": {},
   "outputs": [],
   "source": []
  },
  {
   "cell_type": "code",
   "execution_count": null,
   "metadata": {},
   "outputs": [],
   "source": []
  }
 ],
 "metadata": {
  "kernelspec": {
   "display_name": "Python 3",
   "language": "python",
   "name": "python3"
  },
  "language_info": {
   "codemirror_mode": {
    "name": "ipython",
    "version": 3
   },
   "file_extension": ".py",
   "mimetype": "text/x-python",
   "name": "python",
   "nbconvert_exporter": "python",
   "pygments_lexer": "ipython3",
   "version": "3.8.3"
  }
 },
 "nbformat": 4,
 "nbformat_minor": 4
}
