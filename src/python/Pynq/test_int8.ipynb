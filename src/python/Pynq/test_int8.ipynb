{
 "cells": [
  {
   "cell_type": "code",
   "execution_count": 17,
   "metadata": {},
   "outputs": [],
   "source": [
    "import os\n",
    "import pynq\n",
    "import numpy as np\n",
    "# os.environ['EMCONFIG_PATH'] = os.environ['PWD']\n",
    "ol=pynq.Overlay(\"krnl_matmulbertl_opt.xclbin\")\n"
   ]
  },
  {
   "cell_type": "code",
   "execution_count": 128,
   "metadata": {
    "scrolled": true
   },
   "outputs": [],
   "source": [
    "from pynq import allocate\n",
    "Nbanks=8\n",
    "Nmat=1\n",
    "Tsize=1024\n",
    "Nvec=14"
   ]
  },
  {
   "cell_type": "code",
   "execution_count": 129,
   "metadata": {},
   "outputs": [
    {
     "data": {
      "text/plain": [
       "(1024, 14)"
      ]
     },
     "execution_count": 129,
     "metadata": {},
     "output_type": "execute_result"
    }
   ],
   "source": [
    "# low = 1 # -2^15\n",
    "# high =  200# 2^15-1\n",
    "low = -100\n",
    "high = 100\n",
    "source_v_np = np.random.randint(low, high, dtype=np.int8, size=(Tsize,Nvec))\n",
    "source_v_np.shape"
   ]
  },
  {
   "cell_type": "code",
   "execution_count": 130,
   "metadata": {},
   "outputs": [
    {
     "data": {
      "text/plain": [
       "(1024, 1024)"
      ]
     },
     "execution_count": 130,
     "metadata": {},
     "output_type": "execute_result"
    }
   ],
   "source": [
    "low = -100\n",
    "high = 100\n",
    "source_w_np = np.random.randint(low, high, dtype=np.int8, size=(Nmat*Tsize,Tsize))\n",
    "source_w_np[100,13] = 2\n",
    "source_w_np.shape\n"
   ]
  },
  {
   "cell_type": "code",
   "execution_count": 131,
   "metadata": {},
   "outputs": [],
   "source": [
    "source_w_split_np = []\n",
    "for i in range(Nbanks):\n",
    "    source_w_split_np.append(np.zeros((Nmat*Tsize,Tsize//Nbanks)))"
   ]
  },
  {
   "cell_type": "code",
   "execution_count": 132,
   "metadata": {},
   "outputs": [
    {
     "data": {
      "text/plain": [
       "(1024, 128)"
      ]
     },
     "execution_count": 132,
     "metadata": {},
     "output_type": "execute_result"
    }
   ],
   "source": [
    "source_w_split_np[0].shape"
   ]
  },
  {
   "cell_type": "code",
   "execution_count": 133,
   "metadata": {},
   "outputs": [
    {
     "data": {
      "text/plain": [
       "(1024, 128)"
      ]
     },
     "execution_count": 133,
     "metadata": {},
     "output_type": "execute_result"
    }
   ],
   "source": [
    "# save the split matrices of the reference values for the loading\n",
    "source_w_split_np = np.hsplit(source_w_np, Nbanks)\n",
    "source_w_split_np[0].shape"
   ]
  },
  {
   "cell_type": "code",
   "execution_count": 134,
   "metadata": {},
   "outputs": [
    {
     "data": {
      "text/plain": [
       "(14, 1024)"
      ]
     },
     "execution_count": 134,
     "metadata": {},
     "output_type": "execute_result"
    }
   ],
   "source": [
    "outbuf_np = np.zeros((Nvec, Tsize), dtype=np.int32)\n",
    "outbuf_np.shape"
   ]
  },
  {
   "cell_type": "code",
   "execution_count": 135,
   "metadata": {},
   "outputs": [
    {
     "data": {
      "text/plain": [
       "(array([[ -90966,  -56078,   41803, ..., -113113,  -85729,   -8945],\n",
       "        [-193090,  -22040,   -8048, ...,  105461,   62221,   66013],\n",
       "        [  64896,  222697,  248032, ...,   99500,  -81101,   57323],\n",
       "        ...,\n",
       "        [-119448, -118695,   85969, ...,  -62000,  147851,  -66726],\n",
       "        [  38542,  -27700,   76620, ...,  -96470,  133668,  -39413],\n",
       "        [ 102315, -162639,   74915, ...,  -90539,  -70492,  -21505]],\n",
       "       dtype=int32),\n",
       " (1024, 14))"
      ]
     },
     "execution_count": 135,
     "metadata": {},
     "output_type": "execute_result"
    }
   ],
   "source": [
    "outbuf_np = np.matmul(source_w_np, source_v_np, dtype=np.int32)\n",
    "outbuf_np, outbuf_np.shape"
   ]
  },
  {
   "cell_type": "code",
   "execution_count": 136,
   "metadata": {},
   "outputs": [],
   "source": [
    "source_w = [\n",
    "  pynq.allocate(shape=(Nmat*Tsize,Tsize//Nbanks), dtype=np.int8, target=ol.HBM0),\n",
    "  pynq.allocate(shape=(Nmat*Tsize,Tsize//Nbanks), dtype=np.int8, target=ol.HBM4),\n",
    "  pynq.allocate(shape=(Nmat*Tsize,Tsize//Nbanks), dtype=np.int8, target=ol.HBM8),\n",
    "  pynq.allocate(shape=(Nmat*Tsize,Tsize//Nbanks), dtype=np.int8, target=ol.HBM12),\n",
    "  pynq.allocate(shape=(Nmat*Tsize,Tsize//Nbanks), dtype=np.int8, target=ol.HBM16),\n",
    "  pynq.allocate(shape=(Nmat*Tsize,Tsize//Nbanks), dtype=np.int8, target=ol.HBM20),\n",
    "  pynq.allocate(shape=(Nmat*Tsize,Tsize//Nbanks), dtype=np.int8, target=ol.HBM24),\n",
    "  pynq.allocate(shape=(Nmat*Tsize,Tsize//Nbanks), dtype=np.int8, target=ol.HBM26)]\n",
    " "
   ]
  },
  {
   "cell_type": "code",
   "execution_count": 137,
   "metadata": {},
   "outputs": [
    {
     "data": {
      "text/plain": [
       "((1024, 128), (1024, 128))"
      ]
     },
     "execution_count": 137,
     "metadata": {},
     "output_type": "execute_result"
    }
   ],
   "source": [
    "source_w[0].shape, source_w_split_np[0].shape"
   ]
  },
  {
   "cell_type": "code",
   "execution_count": 138,
   "metadata": {},
   "outputs": [],
   "source": [
    "for i in range(len(source_w)):\n",
    "#     source_w[i][:] = np.random.randint(-2^15, high=2^15-1, dtype=np.int8, size=(Nmat*Tsize//Nbanks,Tsize))\n",
    "    source_w[i][:] = source_w_split_np[i]"
   ]
  },
  {
   "cell_type": "code",
   "execution_count": 139,
   "metadata": {},
   "outputs": [
    {
     "data": {
      "text/plain": [
       "(1024, 128)"
      ]
     },
     "execution_count": 139,
     "metadata": {},
     "output_type": "execute_result"
    }
   ],
   "source": [
    "source_w[0].shape\n"
   ]
  },
  {
   "cell_type": "code",
   "execution_count": 140,
   "metadata": {},
   "outputs": [],
   "source": [
    "for i in range(8):\n",
    "    source_w[i].sync_to_device()"
   ]
  },
  {
   "cell_type": "code",
   "execution_count": 141,
   "metadata": {},
   "outputs": [
    {
     "name": "stdout",
     "output_type": "stream",
     "text": [
      "source_v shape (14, 1024)\n",
      "<class 'pynq.buffer.PynqBuffer'>\n",
      "outbuf shape (1024, 14)\n"
     ]
    }
   ],
   "source": [
    "source_v = pynq.allocate(shape=(Nvec,Tsize), dtype=np.int8, target=ol.HBM14)\n",
    "print(\"source_v shape\", source_v.shape)\n",
    "# source_v[:] = np.random.randint(-2^15, high=2^15-1, dtype=np.int8, size=(Tsize,Nvec))\n",
    "source_v[:] = source_v_np.T\n",
    "print(type(source_v))\n",
    "source_v.sync_to_device()\n",
    "outbuf = pynq.allocate((Tsize*Nmat,Nvec), dtype=np.int32, target=ol.HBM14)\n",
    "print(\"outbuf shape\", outbuf.shape)"
   ]
  },
  {
   "cell_type": "code",
   "execution_count": 142,
   "metadata": {},
   "outputs": [
    {
     "name": "stdout",
     "output_type": "stream",
     "text": [
      "1.16 ms ± 48.9 µs per loop (mean ± std. dev. of 7 runs, 1000 loops each)\n"
     ]
    }
   ],
   "source": [
    "%%timeit\n",
    "ol.feeder_1.call(\n",
    "\tsource_v,\n",
    "\tsource_w[0],\n",
    "\tsource_w[1],\n",
    "\tsource_w[2],\n",
    "\tsource_w[3],\n",
    "\tsource_w[4],\n",
    "\tsource_w[5],\n",
    "\tsource_w[6],\n",
    "\tsource_w[7],\n",
    "    outbuf, \n",
    "    Nmat,\n",
    "    Nvec, # seq length\n",
    "    0)\n",
    "\n",
    "outbuf.sync_from_device()\n",
    "# nmat, nvec\n",
    "# 1, 14: 1.16 ms ± 48.9 µs per loop (mean ± std. dev. of 7 runs, 1000 loops each)\n",
    "# 1, 128: 1.67 ms ± 19.5 µs per loop (mean ± std. dev. of 7 runs, 1000 loops each)\n",
    "# 3, 14 : 1.31 ms ± 17.3 µs per loop (mean ± std. dev. of 7 runs, 1000 loops each)\n",
    "# 3, 128: 3.32 ms ± 61.6 µs per loop (mean ± std. dev. of 7 runs, 100 loops each)\n",
    "# 4, 128: 3.82 ms ± 46.1 µs per loop (mean ± std. dev. of 7 runs, 100 loops each)\n",
    "# \n",
    "# 8, 128: 6.87 ms ± 77.8 µs per loop (mean ± std. dev. of 7 runs, 100 loops each)\n"
   ]
  },
  {
   "cell_type": "code",
   "execution_count": 143,
   "metadata": {},
   "outputs": [
    {
     "data": {
      "text/plain": [
       "(1024, 14)"
      ]
     },
     "execution_count": 143,
     "metadata": {},
     "output_type": "execute_result"
    }
   ],
   "source": [
    "outbuf.shape"
   ]
  },
  {
   "cell_type": "code",
   "execution_count": 144,
   "metadata": {},
   "outputs": [
    {
     "data": {
      "text/plain": [
       "(1024, 14)"
      ]
     },
     "execution_count": 144,
     "metadata": {},
     "output_type": "execute_result"
    }
   ],
   "source": [
    "outbuf_np.shape"
   ]
  },
  {
   "cell_type": "code",
   "execution_count": 145,
   "metadata": {},
   "outputs": [
    {
     "data": {
      "text/plain": [
       "PynqBuffer([[-24,  70,  -3, ..., -59,  32,  51],\n",
       "            [-77, -48, -17, ..., -42,  55, -28],\n",
       "            [-69, -45,   2, ..., -72,  86, -11],\n",
       "            ...,\n",
       "            [ 79,  83,  90, ...,  54,  -2,  13],\n",
       "            [-40, -39, -40, ..., -21, -37, -51],\n",
       "            [ 98, -19,  43, ..., -54, -25, -42]], dtype=int8)"
      ]
     },
     "execution_count": 145,
     "metadata": {},
     "output_type": "execute_result"
    }
   ],
   "source": [
    "source_v"
   ]
  },
  {
   "cell_type": "code",
   "execution_count": 146,
   "metadata": {},
   "outputs": [
    {
     "data": {
      "text/plain": [
       "PynqBuffer([[-64, -21, -77, ..., -75, -35,  31],\n",
       "            [ 79,  17,  17, ...,  69,  41, -20],\n",
       "            [ 89,  -3, -28, ..., -34,  32,  85],\n",
       "            ...,\n",
       "            [ 97, -76,  43, ...,  80, -97, -43],\n",
       "            [-49, -70,  55, ..., -64,   2,  53],\n",
       "            [ 74,   4,  88, ...,  35, -37,  55]], dtype=int8)"
      ]
     },
     "execution_count": 146,
     "metadata": {},
     "output_type": "execute_result"
    }
   ],
   "source": [
    "source_w[0]"
   ]
  },
  {
   "cell_type": "code",
   "execution_count": 147,
   "metadata": {},
   "outputs": [
    {
     "data": {
      "text/plain": [
       "PynqBuffer([[ -90966,  -56078,   41803, ..., -113113,  -85729,   -8945],\n",
       "            [-193090,  -22040,   -8048, ...,  105461,   62221,   66013],\n",
       "            [  64896,  222697,  248032, ...,   99500,  -81101,   57323],\n",
       "            ...,\n",
       "            [-119448, -118695,   85969, ...,  -62000,  147851,  -66726],\n",
       "            [  38542,  -27700,   76620, ...,  -96470,  133668,  -39413],\n",
       "            [ 102315, -162639,   74915, ...,  -90539,  -70492,  -21505]],\n",
       "           dtype=int32)"
      ]
     },
     "execution_count": 147,
     "metadata": {},
     "output_type": "execute_result"
    }
   ],
   "source": [
    "outbuf"
   ]
  },
  {
   "cell_type": "code",
   "execution_count": 148,
   "metadata": {},
   "outputs": [
    {
     "data": {
      "text/plain": [
       "array([[ -90966,  -56078,   41803, ..., -113113,  -85729,   -8945],\n",
       "       [-193090,  -22040,   -8048, ...,  105461,   62221,   66013],\n",
       "       [  64896,  222697,  248032, ...,   99500,  -81101,   57323],\n",
       "       ...,\n",
       "       [-119448, -118695,   85969, ...,  -62000,  147851,  -66726],\n",
       "       [  38542,  -27700,   76620, ...,  -96470,  133668,  -39413],\n",
       "       [ 102315, -162639,   74915, ...,  -90539,  -70492,  -21505]],\n",
       "      dtype=int32)"
      ]
     },
     "execution_count": 148,
     "metadata": {},
     "output_type": "execute_result"
    }
   ],
   "source": [
    "outbuf_np"
   ]
  },
  {
   "cell_type": "code",
   "execution_count": 149,
   "metadata": {},
   "outputs": [
    {
     "data": {
      "text/plain": [
       "PynqBuffer(True)"
      ]
     },
     "execution_count": 149,
     "metadata": {},
     "output_type": "execute_result"
    }
   ],
   "source": [
    "outbuf.any() == outbuf_np.any()"
   ]
  },
  {
   "cell_type": "code",
   "execution_count": null,
   "metadata": {},
   "outputs": [],
   "source": []
  },
  {
   "cell_type": "code",
   "execution_count": null,
   "metadata": {},
   "outputs": [],
   "source": []
  },
  {
   "cell_type": "code",
   "execution_count": null,
   "metadata": {},
   "outputs": [],
   "source": []
  },
  {
   "cell_type": "code",
   "execution_count": null,
   "metadata": {},
   "outputs": [],
   "source": []
  },
  {
   "cell_type": "code",
   "execution_count": null,
   "metadata": {},
   "outputs": [],
   "source": []
  }
 ],
 "metadata": {
  "kernelspec": {
   "display_name": "Python 3",
   "language": "python",
   "name": "python3"
  },
  "language_info": {
   "codemirror_mode": {
    "name": "ipython",
    "version": 3
   },
   "file_extension": ".py",
   "mimetype": "text/x-python",
   "name": "python",
   "nbconvert_exporter": "python",
   "pygments_lexer": "ipython3",
   "version": "3.8.3"
  }
 },
 "nbformat": 4,
 "nbformat_minor": 4
}
