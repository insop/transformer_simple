{
 "cells": [
  {
   "cell_type": "code",
   "execution_count": 1,
   "metadata": {},
   "outputs": [
    {
     "name": "stderr",
     "output_type": "stream",
     "text": [
      "/data/anaconda3/lib/python3.8/site-packages/setuptools/distutils_patch.py:25: UserWarning: Distutils was imported before Setuptools. This usage is discouraged and may exhibit undesirable behaviors or errors. Please use Setuptools' objects directly or at least import Setuptools first.\n",
      "  warnings.warn(\n"
     ]
    },
    {
     "data": {
      "application/javascript": [
       "\n",
       "try {\n",
       "require(['notebook/js/codecell'], function(codecell) {\n",
       "  codecell.CodeCell.options_default.highlight_modes[\n",
       "      'magic_text/x-csrc'] = {'reg':[/^%%microblaze/]};\n",
       "  Jupyter.notebook.events.one('kernel_ready.Kernel', function(){\n",
       "      Jupyter.notebook.get_cells().map(function(cell){\n",
       "          if (cell.cell_type == 'code'){ cell.auto_highlight(); } }) ;\n",
       "  });\n",
       "});\n",
       "} catch (e) {};\n"
      ]
     },
     "metadata": {},
     "output_type": "display_data"
    },
    {
     "data": {
      "application/javascript": [
       "\n",
       "try {\n",
       "require(['notebook/js/codecell'], function(codecell) {\n",
       "  codecell.CodeCell.options_default.highlight_modes[\n",
       "      'magic_text/x-csrc'] = {'reg':[/^%%pybind11/]};\n",
       "  Jupyter.notebook.events.one('kernel_ready.Kernel', function(){\n",
       "      Jupyter.notebook.get_cells().map(function(cell){\n",
       "          if (cell.cell_type == 'code'){ cell.auto_highlight(); } }) ;\n",
       "  });\n",
       "});\n",
       "} catch (e) {};\n"
      ]
     },
     "metadata": {},
     "output_type": "display_data"
    }
   ],
   "source": [
    "import os\n",
    "import pynq\n",
    "import numpy as np\n",
    "# os.environ['EMCONFIG_PATH'] = os.environ['PWD']\n",
    "ol=pynq.Overlay(\"krnl_matmulbertl_opt.xclbin\")\n"
   ]
  },
  {
   "cell_type": "code",
   "execution_count": 2,
   "metadata": {
    "scrolled": true
   },
   "outputs": [],
   "source": [
    "from pynq import allocate\n",
    "Nbanks=8\n",
    "Nmat=1\n",
    "Tsize=1024\n",
    "Nvec=14"
   ]
  },
  {
   "cell_type": "code",
   "execution_count": 3,
   "metadata": {},
   "outputs": [
    {
     "data": {
      "text/plain": [
       "(1024, 14)"
      ]
     },
     "execution_count": 3,
     "metadata": {},
     "output_type": "execute_result"
    }
   ],
   "source": [
    "# low = 1 # -2^15\n",
    "# high =  200# 2^15-1\n",
    "low = -100\n",
    "high = 100\n",
    "source_v_np = np.random.randint(low, high, dtype=np.int8, size=(Tsize,Nvec))\n",
    "source_v_np.shape"
   ]
  },
  {
   "cell_type": "code",
   "execution_count": 4,
   "metadata": {},
   "outputs": [
    {
     "data": {
      "text/plain": [
       "(1024, 1024)"
      ]
     },
     "execution_count": 4,
     "metadata": {},
     "output_type": "execute_result"
    }
   ],
   "source": [
    "low = -100\n",
    "high = 100\n",
    "source_w_np = np.random.randint(low, high, dtype=np.int8, size=(Nmat*Tsize,Tsize))\n",
    "source_w_np[100,13] = 2\n",
    "source_w_np.shape\n"
   ]
  },
  {
   "cell_type": "code",
   "execution_count": 5,
   "metadata": {},
   "outputs": [],
   "source": [
    "source_w_split_np = []\n",
    "for i in range(Nbanks):\n",
    "    source_w_split_np.append(np.zeros((Nmat*Tsize,Tsize//Nbanks)))"
   ]
  },
  {
   "cell_type": "code",
   "execution_count": 6,
   "metadata": {},
   "outputs": [
    {
     "data": {
      "text/plain": [
       "(1024, 128)"
      ]
     },
     "execution_count": 6,
     "metadata": {},
     "output_type": "execute_result"
    }
   ],
   "source": [
    "source_w_split_np[0].shape"
   ]
  },
  {
   "cell_type": "code",
   "execution_count": 7,
   "metadata": {},
   "outputs": [
    {
     "data": {
      "text/plain": [
       "(1024, 128)"
      ]
     },
     "execution_count": 7,
     "metadata": {},
     "output_type": "execute_result"
    }
   ],
   "source": [
    "# save the split matrices of the reference values for the loading\n",
    "source_w_split_np = np.hsplit(source_w_np, Nbanks)\n",
    "source_w_split_np[0].shape"
   ]
  },
  {
   "cell_type": "code",
   "execution_count": 8,
   "metadata": {},
   "outputs": [
    {
     "data": {
      "text/plain": [
       "(14, 1024)"
      ]
     },
     "execution_count": 8,
     "metadata": {},
     "output_type": "execute_result"
    }
   ],
   "source": [
    "outbuf_np = np.zeros((Nvec, Tsize), dtype=np.int32)\n",
    "outbuf_np.shape"
   ]
  },
  {
   "cell_type": "code",
   "execution_count": 9,
   "metadata": {},
   "outputs": [
    {
     "data": {
      "text/plain": [
       "(array([[   -121,   11482, -108132, ...,   31808,   26676,   19100],\n",
       "        [ -22933,   82349, -230029, ...,  -14270,  -17445,  -32602],\n",
       "        [  97154,   64067,  -15278, ...,   26689,  165909, -128912],\n",
       "        ...,\n",
       "        [  13098,  222216,  120247, ...,  -16820,  -46254,  -59414],\n",
       "        [ 180275,  -32939,  -64279, ...,  192072,  -95258,   -5030],\n",
       "        [ -69859,  -52796,  -34661, ..., -175254,   75385,   59810]],\n",
       "       dtype=int32),\n",
       " (1024, 14))"
      ]
     },
     "execution_count": 9,
     "metadata": {},
     "output_type": "execute_result"
    }
   ],
   "source": [
    "outbuf_np = np.matmul(source_w_np, source_v_np, dtype=np.int32)\n",
    "outbuf_np, outbuf_np.shape"
   ]
  },
  {
   "cell_type": "code",
   "execution_count": 26,
   "metadata": {},
   "outputs": [
    {
     "name": "stdout",
     "output_type": "stream",
     "text": [
      "6.51 ms ± 553 µs per loop (mean ± std. dev. of 7 runs, 100 loops each)\n"
     ]
    }
   ],
   "source": [
    "\n",
    "%%timeit \n",
    "# w alloc\n",
    "source_w = [\n",
    "  pynq.allocate(shape=(Nmat*Tsize,Tsize//Nbanks), dtype=np.int8, target=ol.HBM0),\n",
    "  pynq.allocate(shape=(Nmat*Tsize,Tsize//Nbanks), dtype=np.int8, target=ol.HBM4),\n",
    "  pynq.allocate(shape=(Nmat*Tsize,Tsize//Nbanks), dtype=np.int8, target=ol.HBM8),\n",
    "  pynq.allocate(shape=(Nmat*Tsize,Tsize//Nbanks), dtype=np.int8, target=ol.HBM12),\n",
    "  pynq.allocate(shape=(Nmat*Tsize,Tsize//Nbanks), dtype=np.int8, target=ol.HBM16),\n",
    "  pynq.allocate(shape=(Nmat*Tsize,Tsize//Nbanks), dtype=np.int8, target=ol.HBM20),\n",
    "  pynq.allocate(shape=(Nmat*Tsize,Tsize//Nbanks), dtype=np.int8, target=ol.HBM24),\n",
    "  pynq.allocate(shape=(Nmat*Tsize,Tsize//Nbanks), dtype=np.int8, target=ol.HBM26)]\n",
    " \n",
    "for i in range(len(source_w)):\n",
    "#     source_w[i][:] = np.random.randint(-2^15, high=2^15-1, dtype=np.int8, size=(Nmat*Tsize//Nbanks,Tsize))\n",
    "    source_w[i][:] = source_w_split_np[i]\n",
    "# nmat, nvec\n",
    "# 1, 14: 6.51 ms ± 553 µs per loop (mean ± std. dev. of 7 runs, 100 loops each)\n"
   ]
  },
  {
   "cell_type": "code",
   "execution_count": 11,
   "metadata": {},
   "outputs": [
    {
     "data": {
      "text/plain": [
       "((1024, 128), (1024, 128))"
      ]
     },
     "execution_count": 11,
     "metadata": {},
     "output_type": "execute_result"
    }
   ],
   "source": [
    "source_w[0].shape, source_w_split_np[0].shape"
   ]
  },
  {
   "cell_type": "code",
   "execution_count": 13,
   "metadata": {},
   "outputs": [
    {
     "data": {
      "text/plain": [
       "(1024, 128)"
      ]
     },
     "execution_count": 13,
     "metadata": {},
     "output_type": "execute_result"
    }
   ],
   "source": [
    "source_w[0].shape\n"
   ]
  },
  {
   "cell_type": "code",
   "execution_count": 27,
   "metadata": {},
   "outputs": [
    {
     "name": "stdout",
     "output_type": "stream",
     "text": [
      "355 µs ± 2.5 µs per loop (mean ± std. dev. of 7 runs, 1000 loops each)\n"
     ]
    }
   ],
   "source": [
    "%%timeit\n",
    "\n",
    "# w sync\n",
    "for i in range(8):\n",
    "    source_w[i].sync_to_device()\n",
    "    \n",
    "# nmat, nvec\n",
    "# 1, 14: 355 µs ± 2.5 µs per loop (mean ± std. dev. of 7 runs, 1000 loops each)\n"
   ]
  },
  {
   "cell_type": "code",
   "execution_count": 29,
   "metadata": {},
   "outputs": [
    {
     "name": "stdout",
     "output_type": "stream",
     "text": [
      "806 µs ± 59.1 µs per loop (mean ± std. dev. of 7 runs, 1000 loops each)\n"
     ]
    }
   ],
   "source": [
    "%%timeit\n",
    "\n",
    "# v alloc and prep\n",
    "source_v = pynq.allocate(shape=(Nvec,Tsize), dtype=np.int8, target=ol.HBM14)\n",
    "\n",
    "source_v[:] = source_v_np.T\n",
    "\n",
    "# nmat, nvec\n",
    "# 1, 14: 806 µs ± 59.1 µs per loop (mean ± std. dev. of 7 runs, 1000 loops each)\n"
   ]
  },
  {
   "cell_type": "code",
   "execution_count": 30,
   "metadata": {},
   "outputs": [
    {
     "name": "stdout",
     "output_type": "stream",
     "text": [
      "803 µs ± 77.3 µs per loop (mean ± std. dev. of 7 runs, 1000 loops each)\n"
     ]
    }
   ],
   "source": [
    "%%timeit\n",
    "\n",
    "# out alloc\n",
    "\n",
    "outbuf = pynq.allocate((Tsize*Nmat,Nvec), dtype=np.int32, target=ol.HBM14)\n",
    "\n",
    "# nmat, nvec\n",
    "# 1, 14: 803 µs ± 77.3 µs per loop (mean ± std. dev. of 7 runs, 1000 loops each)"
   ]
  },
  {
   "cell_type": "code",
   "execution_count": 31,
   "metadata": {},
   "outputs": [
    {
     "name": "stdout",
     "output_type": "stream",
     "text": [
      "23.9 µs ± 1.27 µs per loop (mean ± std. dev. of 7 runs, 10000 loops each)\n"
     ]
    }
   ],
   "source": [
    "%%timeit\n",
    "\n",
    "# v sync\n",
    "source_v.sync_to_device()\n",
    "\n",
    "# nmat, nvec\n",
    "# 1, 14: 23.9 µs ± 1.27 µs per loop (mean ± std. dev. of 7 runs, 10000 loops each)"
   ]
  },
  {
   "cell_type": "code",
   "execution_count": null,
   "metadata": {},
   "outputs": [],
   "source": [
    "print(\"source_v shape\", source_v.shape)\n",
    "print(type(source_v))\n",
    "print(\"outbuf shape\", outbuf.shape)\n"
   ]
  },
  {
   "cell_type": "code",
   "execution_count": 32,
   "metadata": {},
   "outputs": [
    {
     "name": "stdout",
     "output_type": "stream",
     "text": [
      "1.17 ms ± 99.1 µs per loop (mean ± std. dev. of 7 runs, 1000 loops each)\n"
     ]
    }
   ],
   "source": [
    "%%timeit\n",
    "ol.feeder_1.call(\n",
    "\tsource_v,\n",
    "\tsource_w[0],\n",
    "\tsource_w[1],\n",
    "\tsource_w[2],\n",
    "\tsource_w[3],\n",
    "\tsource_w[4],\n",
    "\tsource_w[5],\n",
    "\tsource_w[6],\n",
    "\tsource_w[7],\n",
    "    outbuf, \n",
    "    Nmat,\n",
    "    Nvec, # seq length\n",
    "    0)\n",
    "\n",
    "outbuf.sync_from_device()\n",
    "# nmat, nvec\n",
    "# 1, 14: 1.16 ms ± 48.9 µs per loop (mean ± std. dev. of 7 runs, 1000 loops each)\n",
    "# 1, 128: 1.67 ms ± 19.5 µs per loop (mean ± std. dev. of 7 runs, 1000 loops each)\n",
    "# 3, 14 : 1.31 ms ± 17.3 µs per loop (mean ± std. dev. of 7 runs, 1000 loops each)\n",
    "# 3, 128: 3.32 ms ± 61.6 µs per loop (mean ± std. dev. of 7 runs, 100 loops each)\n",
    "# 4, 128: 3.82 ms ± 46.1 µs per loop (mean ± std. dev. of 7 runs, 100 loops each)\n",
    "# \n",
    "# 8, 128: 6.87 ms ± 77.8 µs per loop (mean ± std. dev. of 7 runs, 100 loops each)\n"
   ]
  },
  {
   "cell_type": "code",
   "execution_count": 17,
   "metadata": {},
   "outputs": [
    {
     "data": {
      "text/plain": [
       "(1024, 14)"
      ]
     },
     "execution_count": 17,
     "metadata": {},
     "output_type": "execute_result"
    }
   ],
   "source": [
    "outbuf.shape"
   ]
  },
  {
   "cell_type": "code",
   "execution_count": 18,
   "metadata": {},
   "outputs": [
    {
     "data": {
      "text/plain": [
       "(1024, 14)"
      ]
     },
     "execution_count": 18,
     "metadata": {},
     "output_type": "execute_result"
    }
   ],
   "source": [
    "outbuf_np.shape"
   ]
  },
  {
   "cell_type": "code",
   "execution_count": 19,
   "metadata": {},
   "outputs": [
    {
     "data": {
      "text/plain": [
       "PynqBuffer([[-88,  71, -76, ..., -91, -29, -37],\n",
       "            [ 66,  95,  13, ...,  31,  35, -11],\n",
       "            [-35,  30,  80, ..., -48, -72, -34],\n",
       "            ...,\n",
       "            [ 34, -70,  76, ...,   0, -65, -64],\n",
       "            [-55, -77,  54, ...,  45,  91, -34],\n",
       "            [ 47, -75,  91, ...,  89, -61,  95]], dtype=int8)"
      ]
     },
     "execution_count": 19,
     "metadata": {},
     "output_type": "execute_result"
    }
   ],
   "source": [
    "source_v"
   ]
  },
  {
   "cell_type": "code",
   "execution_count": 20,
   "metadata": {},
   "outputs": [
    {
     "data": {
      "text/plain": [
       "PynqBuffer([[ 46, -78, -92, ...,  73,  37,  43],\n",
       "            [-27,   2,  93, ...,  59,  23, -80],\n",
       "            [ 21, -93, -47, ...,  47, -12,  66],\n",
       "            ...,\n",
       "            [-45, -98,  13, ...,  94, -14,  81],\n",
       "            [-61, -75,  77, ...,  93,  32, -50],\n",
       "            [ -9, -38,  22, ...,  69, -27, -23]], dtype=int8)"
      ]
     },
     "execution_count": 20,
     "metadata": {},
     "output_type": "execute_result"
    }
   ],
   "source": [
    "source_w[0]"
   ]
  },
  {
   "cell_type": "code",
   "execution_count": 21,
   "metadata": {},
   "outputs": [
    {
     "data": {
      "text/plain": [
       "PynqBuffer([[   -121,   11482, -108132, ...,   31808,   26676,   19100],\n",
       "            [ -22933,   82349, -230029, ...,  -14270,  -17445,  -32602],\n",
       "            [  97154,   64067,  -15278, ...,   26689,  165909, -128912],\n",
       "            ...,\n",
       "            [  13098,  222216,  120247, ...,  -16820,  -46254,  -59414],\n",
       "            [ 180275,  -32939,  -64279, ...,  192072,  -95258,   -5030],\n",
       "            [ -69859,  -52796,  -34661, ..., -175254,   75385,   59810]],\n",
       "           dtype=int32)"
      ]
     },
     "execution_count": 21,
     "metadata": {},
     "output_type": "execute_result"
    }
   ],
   "source": [
    "outbuf"
   ]
  },
  {
   "cell_type": "code",
   "execution_count": 22,
   "metadata": {},
   "outputs": [
    {
     "data": {
      "text/plain": [
       "array([[   -121,   11482, -108132, ...,   31808,   26676,   19100],\n",
       "       [ -22933,   82349, -230029, ...,  -14270,  -17445,  -32602],\n",
       "       [  97154,   64067,  -15278, ...,   26689,  165909, -128912],\n",
       "       ...,\n",
       "       [  13098,  222216,  120247, ...,  -16820,  -46254,  -59414],\n",
       "       [ 180275,  -32939,  -64279, ...,  192072,  -95258,   -5030],\n",
       "       [ -69859,  -52796,  -34661, ..., -175254,   75385,   59810]],\n",
       "      dtype=int32)"
      ]
     },
     "execution_count": 22,
     "metadata": {},
     "output_type": "execute_result"
    }
   ],
   "source": [
    "outbuf_np"
   ]
  },
  {
   "cell_type": "code",
   "execution_count": 23,
   "metadata": {},
   "outputs": [
    {
     "data": {
      "text/plain": [
       "PynqBuffer(True)"
      ]
     },
     "execution_count": 23,
     "metadata": {},
     "output_type": "execute_result"
    }
   ],
   "source": [
    "outbuf.any() == outbuf_np.any()"
   ]
  },
  {
   "cell_type": "code",
   "execution_count": null,
   "metadata": {},
   "outputs": [],
   "source": []
  },
  {
   "cell_type": "code",
   "execution_count": null,
   "metadata": {},
   "outputs": [],
   "source": []
  },
  {
   "cell_type": "code",
   "execution_count": null,
   "metadata": {},
   "outputs": [],
   "source": []
  },
  {
   "cell_type": "code",
   "execution_count": null,
   "metadata": {},
   "outputs": [],
   "source": []
  },
  {
   "cell_type": "code",
   "execution_count": null,
   "metadata": {},
   "outputs": [],
   "source": []
  }
 ],
 "metadata": {
  "kernelspec": {
   "display_name": "Python 3",
   "language": "python",
   "name": "python3"
  },
  "language_info": {
   "codemirror_mode": {
    "name": "ipython",
    "version": 3
   },
   "file_extension": ".py",
   "mimetype": "text/x-python",
   "name": "python",
   "nbconvert_exporter": "python",
   "pygments_lexer": "ipython3",
   "version": "3.8.3"
  }
 },
 "nbformat": 4,
 "nbformat_minor": 4
}
